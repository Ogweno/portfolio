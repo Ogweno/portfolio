{
  "nbformat": 4,
  "nbformat_minor": 0,
  "metadata": {
    "colab": {
      "provenance": [],
      "authorship_tag": "ABX9TyOheG25aftO5CVVFwach6Cd",
      "include_colab_link": true
    },
    "kernelspec": {
      "name": "python3",
      "display_name": "Python 3"
    },
    "language_info": {
      "name": "python"
    },
    "widgets": {
      "application/vnd.jupyter.widget-state+json": {
        "5fac4ed363274974b3d5d04e1cd8792b": {
          "model_module": "@jupyter-widgets/controls",
          "model_name": "VBoxModel",
          "model_module_version": "1.5.0",
          "state": {
            "_dom_classes": [
              "widget-interact"
            ],
            "_model_module": "@jupyter-widgets/controls",
            "_model_module_version": "1.5.0",
            "_model_name": "VBoxModel",
            "_view_count": null,
            "_view_module": "@jupyter-widgets/controls",
            "_view_module_version": "1.5.0",
            "_view_name": "VBoxView",
            "box_style": "",
            "children": [
              "IPY_MODEL_3803a2c925cf456582180eea251f3489",
              "IPY_MODEL_3a2252545ddd4e80b3323adbfe8a51ce",
              "IPY_MODEL_969abab806814ca5bab45fe28d23126e",
              "IPY_MODEL_f50c409b0abb494b9e15c0fbee22fb50",
              "IPY_MODEL_c8c4e71e69ab458993a74620ef68e0f7",
              "IPY_MODEL_f2c3bfcad3a34b20a1e385869e59c60a"
            ],
            "layout": "IPY_MODEL_c96470a260e04e55b1474359e4f6f133"
          }
        },
        "3803a2c925cf456582180eea251f3489": {
          "model_module": "@jupyter-widgets/controls",
          "model_name": "DropdownModel",
          "model_module_version": "1.5.0",
          "state": {
            "_dom_classes": [],
            "_model_module": "@jupyter-widgets/controls",
            "_model_module_version": "1.5.0",
            "_model_name": "DropdownModel",
            "_options_labels": [
              "",
              "Math",
              "Science",
              "History"
            ],
            "_view_count": null,
            "_view_module": "@jupyter-widgets/controls",
            "_view_module_version": "1.5.0",
            "_view_name": "DropdownView",
            "description": "Subject:",
            "description_tooltip": null,
            "disabled": false,
            "index": 1,
            "layout": "IPY_MODEL_3c16c5e8cc15488aa7f64d6126f8c1b3",
            "style": "IPY_MODEL_c344a3e8dd1c4c6db938d2f4b4a1fdee"
          }
        },
        "3a2252545ddd4e80b3323adbfe8a51ce": {
          "model_module": "@jupyter-widgets/controls",
          "model_name": "SelectMultipleModel",
          "model_module_version": "1.5.0",
          "state": {
            "_dom_classes": [],
            "_model_module": "@jupyter-widgets/controls",
            "_model_module_version": "1.5.0",
            "_model_name": "SelectMultipleModel",
            "_options_labels": [
              "Module A",
              "Module B",
              "Module C"
            ],
            "_view_count": null,
            "_view_module": "@jupyter-widgets/controls",
            "_view_module_version": "1.5.0",
            "_view_name": "SelectMultipleView",
            "description": "Select Modules:",
            "description_tooltip": null,
            "disabled": false,
            "index": [
              0
            ],
            "layout": "IPY_MODEL_5669c7a00137453596b10dc47abeaccc",
            "rows": 5,
            "style": "IPY_MODEL_9363f9b68da44a0ba00e15b6d32fac80"
          }
        },
        "969abab806814ca5bab45fe28d23126e": {
          "model_module": "@jupyter-widgets/controls",
          "model_name": "CheckboxModel",
          "model_module_version": "1.5.0",
          "state": {
            "_dom_classes": [],
            "_model_module": "@jupyter-widgets/controls",
            "_model_module_version": "1.5.0",
            "_model_name": "CheckboxModel",
            "_view_count": null,
            "_view_module": "@jupyter-widgets/controls",
            "_view_module_version": "1.5.0",
            "_view_name": "CheckboxView",
            "description": "Student Group:",
            "description_tooltip": null,
            "disabled": false,
            "indent": true,
            "layout": "IPY_MODEL_4771a6bed8e346bb85c1660460e0b08c",
            "style": "IPY_MODEL_85177d929ba34cc9b66a0e65fa84c6ac",
            "value": true
          }
        },
        "f50c409b0abb494b9e15c0fbee22fb50": {
          "model_module": "@jupyter-widgets/controls",
          "model_name": "ToggleButtonsModel",
          "model_module_version": "1.5.0",
          "state": {
            "_dom_classes": [],
            "_model_module": "@jupyter-widgets/controls",
            "_model_module_version": "1.5.0",
            "_model_name": "ToggleButtonsModel",
            "_options_labels": [
              "Semester"
            ],
            "_view_count": null,
            "_view_module": "@jupyter-widgets/controls",
            "_view_module_version": "1.5.0",
            "_view_name": "ToggleButtonsView",
            "button_style": "",
            "description": "X-Axis:",
            "description_tooltip": null,
            "disabled": false,
            "icons": [],
            "index": 0,
            "layout": "IPY_MODEL_234d96a8a99a42b0b0a675b41f15fe4c",
            "style": "IPY_MODEL_89056e9cc50c4a9eb2a631cae7f0b147",
            "tooltips": []
          }
        },
        "c8c4e71e69ab458993a74620ef68e0f7": {
          "model_module": "@jupyter-widgets/controls",
          "model_name": "ToggleButtonsModel",
          "model_module_version": "1.5.0",
          "state": {
            "_dom_classes": [],
            "_model_module": "@jupyter-widgets/controls",
            "_model_module_version": "1.5.0",
            "_model_name": "ToggleButtonsModel",
            "_options_labels": [
              "Boxplot",
              "Violin Plot (Unbound)",
              "Violin Plot (Clamp to Data)",
              "Bean Plot",
              "Beeswarm Plot",
              "Scatter Plot"
            ],
            "_view_count": null,
            "_view_module": "@jupyter-widgets/controls",
            "_view_module_version": "1.5.0",
            "_view_name": "ToggleButtonsView",
            "button_style": "",
            "description": "Plot Type:",
            "description_tooltip": null,
            "disabled": false,
            "icons": [],
            "index": 0,
            "layout": "IPY_MODEL_b800439d20864ee58a1a5407497d97af",
            "style": "IPY_MODEL_beae6ab2be8e42dfb5ba241f6598f5b3",
            "tooltips": []
          }
        },
        "f2c3bfcad3a34b20a1e385869e59c60a": {
          "model_module": "@jupyter-widgets/output",
          "model_name": "OutputModel",
          "model_module_version": "1.0.0",
          "state": {
            "_dom_classes": [],
            "_model_module": "@jupyter-widgets/output",
            "_model_module_version": "1.0.0",
            "_model_name": "OutputModel",
            "_view_count": null,
            "_view_module": "@jupyter-widgets/output",
            "_view_module_version": "1.0.0",
            "_view_name": "OutputView",
            "layout": "IPY_MODEL_c61056432b7f478f9a170f9f6b1b825a",
            "msg_id": "",
            "outputs": [
              {
                "output_type": "display_data",
                "data": {
                  "text/plain": "<Figure size 1200x600 with 1 Axes>",
                  "image/png": "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\n"
                },
                "metadata": {}
              }
            ]
          }
        },
        "c96470a260e04e55b1474359e4f6f133": {
          "model_module": "@jupyter-widgets/base",
          "model_name": "LayoutModel",
          "model_module_version": "1.2.0",
          "state": {
            "_model_module": "@jupyter-widgets/base",
            "_model_module_version": "1.2.0",
            "_model_name": "LayoutModel",
            "_view_count": null,
            "_view_module": "@jupyter-widgets/base",
            "_view_module_version": "1.2.0",
            "_view_name": "LayoutView",
            "align_content": null,
            "align_items": null,
            "align_self": null,
            "border": null,
            "bottom": null,
            "display": null,
            "flex": null,
            "flex_flow": null,
            "grid_area": null,
            "grid_auto_columns": null,
            "grid_auto_flow": null,
            "grid_auto_rows": null,
            "grid_column": null,
            "grid_gap": null,
            "grid_row": null,
            "grid_template_areas": null,
            "grid_template_columns": null,
            "grid_template_rows": null,
            "height": null,
            "justify_content": null,
            "justify_items": null,
            "left": null,
            "margin": null,
            "max_height": null,
            "max_width": null,
            "min_height": null,
            "min_width": null,
            "object_fit": null,
            "object_position": null,
            "order": null,
            "overflow": null,
            "overflow_x": null,
            "overflow_y": null,
            "padding": null,
            "right": null,
            "top": null,
            "visibility": null,
            "width": null
          }
        },
        "3c16c5e8cc15488aa7f64d6126f8c1b3": {
          "model_module": "@jupyter-widgets/base",
          "model_name": "LayoutModel",
          "model_module_version": "1.2.0",
          "state": {
            "_model_module": "@jupyter-widgets/base",
            "_model_module_version": "1.2.0",
            "_model_name": "LayoutModel",
            "_view_count": null,
            "_view_module": "@jupyter-widgets/base",
            "_view_module_version": "1.2.0",
            "_view_name": "LayoutView",
            "align_content": null,
            "align_items": null,
            "align_self": null,
            "border": null,
            "bottom": null,
            "display": null,
            "flex": null,
            "flex_flow": null,
            "grid_area": null,
            "grid_auto_columns": null,
            "grid_auto_flow": null,
            "grid_auto_rows": null,
            "grid_column": null,
            "grid_gap": null,
            "grid_row": null,
            "grid_template_areas": null,
            "grid_template_columns": null,
            "grid_template_rows": null,
            "height": null,
            "justify_content": null,
            "justify_items": null,
            "left": null,
            "margin": null,
            "max_height": null,
            "max_width": null,
            "min_height": null,
            "min_width": null,
            "object_fit": null,
            "object_position": null,
            "order": null,
            "overflow": null,
            "overflow_x": null,
            "overflow_y": null,
            "padding": null,
            "right": null,
            "top": null,
            "visibility": null,
            "width": null
          }
        },
        "c344a3e8dd1c4c6db938d2f4b4a1fdee": {
          "model_module": "@jupyter-widgets/controls",
          "model_name": "DescriptionStyleModel",
          "model_module_version": "1.5.0",
          "state": {
            "_model_module": "@jupyter-widgets/controls",
            "_model_module_version": "1.5.0",
            "_model_name": "DescriptionStyleModel",
            "_view_count": null,
            "_view_module": "@jupyter-widgets/base",
            "_view_module_version": "1.2.0",
            "_view_name": "StyleView",
            "description_width": ""
          }
        },
        "5669c7a00137453596b10dc47abeaccc": {
          "model_module": "@jupyter-widgets/base",
          "model_name": "LayoutModel",
          "model_module_version": "1.2.0",
          "state": {
            "_model_module": "@jupyter-widgets/base",
            "_model_module_version": "1.2.0",
            "_model_name": "LayoutModel",
            "_view_count": null,
            "_view_module": "@jupyter-widgets/base",
            "_view_module_version": "1.2.0",
            "_view_name": "LayoutView",
            "align_content": null,
            "align_items": null,
            "align_self": null,
            "border": null,
            "bottom": null,
            "display": null,
            "flex": null,
            "flex_flow": null,
            "grid_area": null,
            "grid_auto_columns": null,
            "grid_auto_flow": null,
            "grid_auto_rows": null,
            "grid_column": null,
            "grid_gap": null,
            "grid_row": null,
            "grid_template_areas": null,
            "grid_template_columns": null,
            "grid_template_rows": null,
            "height": null,
            "justify_content": null,
            "justify_items": null,
            "left": null,
            "margin": null,
            "max_height": null,
            "max_width": null,
            "min_height": null,
            "min_width": null,
            "object_fit": null,
            "object_position": null,
            "order": null,
            "overflow": null,
            "overflow_x": null,
            "overflow_y": null,
            "padding": null,
            "right": null,
            "top": null,
            "visibility": null,
            "width": null
          }
        },
        "9363f9b68da44a0ba00e15b6d32fac80": {
          "model_module": "@jupyter-widgets/controls",
          "model_name": "DescriptionStyleModel",
          "model_module_version": "1.5.0",
          "state": {
            "_model_module": "@jupyter-widgets/controls",
            "_model_module_version": "1.5.0",
            "_model_name": "DescriptionStyleModel",
            "_view_count": null,
            "_view_module": "@jupyter-widgets/base",
            "_view_module_version": "1.2.0",
            "_view_name": "StyleView",
            "description_width": ""
          }
        },
        "4771a6bed8e346bb85c1660460e0b08c": {
          "model_module": "@jupyter-widgets/base",
          "model_name": "LayoutModel",
          "model_module_version": "1.2.0",
          "state": {
            "_model_module": "@jupyter-widgets/base",
            "_model_module_version": "1.2.0",
            "_model_name": "LayoutModel",
            "_view_count": null,
            "_view_module": "@jupyter-widgets/base",
            "_view_module_version": "1.2.0",
            "_view_name": "LayoutView",
            "align_content": null,
            "align_items": null,
            "align_self": null,
            "border": null,
            "bottom": null,
            "display": null,
            "flex": null,
            "flex_flow": null,
            "grid_area": null,
            "grid_auto_columns": null,
            "grid_auto_flow": null,
            "grid_auto_rows": null,
            "grid_column": null,
            "grid_gap": null,
            "grid_row": null,
            "grid_template_areas": null,
            "grid_template_columns": null,
            "grid_template_rows": null,
            "height": null,
            "justify_content": null,
            "justify_items": null,
            "left": null,
            "margin": null,
            "max_height": null,
            "max_width": null,
            "min_height": null,
            "min_width": null,
            "object_fit": null,
            "object_position": null,
            "order": null,
            "overflow": null,
            "overflow_x": null,
            "overflow_y": null,
            "padding": null,
            "right": null,
            "top": null,
            "visibility": null,
            "width": null
          }
        },
        "85177d929ba34cc9b66a0e65fa84c6ac": {
          "model_module": "@jupyter-widgets/controls",
          "model_name": "DescriptionStyleModel",
          "model_module_version": "1.5.0",
          "state": {
            "_model_module": "@jupyter-widgets/controls",
            "_model_module_version": "1.5.0",
            "_model_name": "DescriptionStyleModel",
            "_view_count": null,
            "_view_module": "@jupyter-widgets/base",
            "_view_module_version": "1.2.0",
            "_view_name": "StyleView",
            "description_width": ""
          }
        },
        "234d96a8a99a42b0b0a675b41f15fe4c": {
          "model_module": "@jupyter-widgets/base",
          "model_name": "LayoutModel",
          "model_module_version": "1.2.0",
          "state": {
            "_model_module": "@jupyter-widgets/base",
            "_model_module_version": "1.2.0",
            "_model_name": "LayoutModel",
            "_view_count": null,
            "_view_module": "@jupyter-widgets/base",
            "_view_module_version": "1.2.0",
            "_view_name": "LayoutView",
            "align_content": null,
            "align_items": null,
            "align_self": null,
            "border": null,
            "bottom": null,
            "display": null,
            "flex": null,
            "flex_flow": null,
            "grid_area": null,
            "grid_auto_columns": null,
            "grid_auto_flow": null,
            "grid_auto_rows": null,
            "grid_column": null,
            "grid_gap": null,
            "grid_row": null,
            "grid_template_areas": null,
            "grid_template_columns": null,
            "grid_template_rows": null,
            "height": null,
            "justify_content": null,
            "justify_items": null,
            "left": null,
            "margin": null,
            "max_height": null,
            "max_width": null,
            "min_height": null,
            "min_width": null,
            "object_fit": null,
            "object_position": null,
            "order": null,
            "overflow": null,
            "overflow_x": null,
            "overflow_y": null,
            "padding": null,
            "right": null,
            "top": null,
            "visibility": null,
            "width": null
          }
        },
        "89056e9cc50c4a9eb2a631cae7f0b147": {
          "model_module": "@jupyter-widgets/controls",
          "model_name": "ToggleButtonsStyleModel",
          "model_module_version": "1.5.0",
          "state": {
            "_model_module": "@jupyter-widgets/controls",
            "_model_module_version": "1.5.0",
            "_model_name": "ToggleButtonsStyleModel",
            "_view_count": null,
            "_view_module": "@jupyter-widgets/base",
            "_view_module_version": "1.2.0",
            "_view_name": "StyleView",
            "button_width": "",
            "description_width": "",
            "font_weight": ""
          }
        },
        "b800439d20864ee58a1a5407497d97af": {
          "model_module": "@jupyter-widgets/base",
          "model_name": "LayoutModel",
          "model_module_version": "1.2.0",
          "state": {
            "_model_module": "@jupyter-widgets/base",
            "_model_module_version": "1.2.0",
            "_model_name": "LayoutModel",
            "_view_count": null,
            "_view_module": "@jupyter-widgets/base",
            "_view_module_version": "1.2.0",
            "_view_name": "LayoutView",
            "align_content": null,
            "align_items": null,
            "align_self": null,
            "border": null,
            "bottom": null,
            "display": null,
            "flex": null,
            "flex_flow": null,
            "grid_area": null,
            "grid_auto_columns": null,
            "grid_auto_flow": null,
            "grid_auto_rows": null,
            "grid_column": null,
            "grid_gap": null,
            "grid_row": null,
            "grid_template_areas": null,
            "grid_template_columns": null,
            "grid_template_rows": null,
            "height": null,
            "justify_content": null,
            "justify_items": null,
            "left": null,
            "margin": null,
            "max_height": null,
            "max_width": null,
            "min_height": null,
            "min_width": null,
            "object_fit": null,
            "object_position": null,
            "order": null,
            "overflow": null,
            "overflow_x": null,
            "overflow_y": null,
            "padding": null,
            "right": null,
            "top": null,
            "visibility": null,
            "width": null
          }
        },
        "beae6ab2be8e42dfb5ba241f6598f5b3": {
          "model_module": "@jupyter-widgets/controls",
          "model_name": "ToggleButtonsStyleModel",
          "model_module_version": "1.5.0",
          "state": {
            "_model_module": "@jupyter-widgets/controls",
            "_model_module_version": "1.5.0",
            "_model_name": "ToggleButtonsStyleModel",
            "_view_count": null,
            "_view_module": "@jupyter-widgets/base",
            "_view_module_version": "1.2.0",
            "_view_name": "StyleView",
            "button_width": "",
            "description_width": "",
            "font_weight": ""
          }
        },
        "c61056432b7f478f9a170f9f6b1b825a": {
          "model_module": "@jupyter-widgets/base",
          "model_name": "LayoutModel",
          "model_module_version": "1.2.0",
          "state": {
            "_model_module": "@jupyter-widgets/base",
            "_model_module_version": "1.2.0",
            "_model_name": "LayoutModel",
            "_view_count": null,
            "_view_module": "@jupyter-widgets/base",
            "_view_module_version": "1.2.0",
            "_view_name": "LayoutView",
            "align_content": null,
            "align_items": null,
            "align_self": null,
            "border": null,
            "bottom": null,
            "display": null,
            "flex": null,
            "flex_flow": null,
            "grid_area": null,
            "grid_auto_columns": null,
            "grid_auto_flow": null,
            "grid_auto_rows": null,
            "grid_column": null,
            "grid_gap": null,
            "grid_row": null,
            "grid_template_areas": null,
            "grid_template_columns": null,
            "grid_template_rows": null,
            "height": null,
            "justify_content": null,
            "justify_items": null,
            "left": null,
            "margin": null,
            "max_height": null,
            "max_width": null,
            "min_height": null,
            "min_width": null,
            "object_fit": null,
            "object_position": null,
            "order": null,
            "overflow": null,
            "overflow_x": null,
            "overflow_y": null,
            "padding": null,
            "right": null,
            "top": null,
            "visibility": null,
            "width": null
          }
        },
        "5c5ef15ba93046338c97b433eb6a1217": {
          "model_module": "@jupyter-widgets/controls",
          "model_name": "VBoxModel",
          "model_module_version": "1.5.0",
          "state": {
            "_dom_classes": [
              "widget-interact"
            ],
            "_model_module": "@jupyter-widgets/controls",
            "_model_module_version": "1.5.0",
            "_model_name": "VBoxModel",
            "_view_count": null,
            "_view_module": "@jupyter-widgets/controls",
            "_view_module_version": "1.5.0",
            "_view_name": "VBoxView",
            "box_style": "",
            "children": [
              "IPY_MODEL_88376f6907a943a5bd9dcbd3d0b812a2",
              "IPY_MODEL_c4d0c93bbb33401cac06a113a7a9ee39",
              "IPY_MODEL_694efd1928f145708150cc82dd9c9e9f",
              "IPY_MODEL_854b875874b04ee09fd8b9bfc9175698"
            ],
            "layout": "IPY_MODEL_b8bb51a37980491bb5be17ca0b0f8076"
          }
        },
        "88376f6907a943a5bd9dcbd3d0b812a2": {
          "model_module": "@jupyter-widgets/controls",
          "model_name": "DropdownModel",
          "model_module_version": "1.5.0",
          "state": {
            "_dom_classes": [],
            "_model_module": "@jupyter-widgets/controls",
            "_model_module_version": "1.5.0",
            "_model_name": "DropdownModel",
            "_options_labels": [
              "Target"
            ],
            "_view_count": null,
            "_view_module": "@jupyter-widgets/controls",
            "_view_module_version": "1.5.0",
            "_view_name": "DropdownView",
            "description": "Target:",
            "description_tooltip": null,
            "disabled": false,
            "index": 0,
            "layout": "IPY_MODEL_8faeaa6a26e6454eaab0491a52a143a3",
            "style": "IPY_MODEL_627197a92faf4049bba7cc5559903eee"
          }
        },
        "c4d0c93bbb33401cac06a113a7a9ee39": {
          "model_module": "@jupyter-widgets/controls",
          "model_name": "DropdownModel",
          "model_module_version": "1.5.0",
          "state": {
            "_dom_classes": [],
            "_model_module": "@jupyter-widgets/controls",
            "_model_module_version": "1.5.0",
            "_model_name": "DropdownModel",
            "_options_labels": [
              "Age_at_Enrollment",
              "Unemployment_Rate",
              "Inflation_Rate",
              "GDP",
              "Application_Order",
              "Curricular_Units_1st_Sem_Credited",
              "Curricular_Units_1st_Sem_Enrolled",
              "Curricular_Units_2nd_Sem_Credited",
              "Curricular_Units_2nd_Sem_Enrolled"
            ],
            "_view_count": null,
            "_view_module": "@jupyter-widgets/controls",
            "_view_module_version": "1.5.0",
            "_view_name": "DropdownView",
            "description": "X-Axis:",
            "description_tooltip": null,
            "disabled": false,
            "index": 0,
            "layout": "IPY_MODEL_34aa9cb42d76435f84a548e0f05cda33",
            "style": "IPY_MODEL_2a2a0610536c43deb9a25718a8c68104"
          }
        },
        "694efd1928f145708150cc82dd9c9e9f": {
          "model_module": "@jupyter-widgets/controls",
          "model_name": "ToggleButtonsModel",
          "model_module_version": "1.5.0",
          "state": {
            "_dom_classes": [],
            "_model_module": "@jupyter-widgets/controls",
            "_model_module_version": "1.5.0",
            "_model_name": "ToggleButtonsModel",
            "_options_labels": [
              "Boxplot",
              "Violin Plot (Unbound)",
              "Violin Plot (Clamp to Data)",
              "Bean Plot",
              "Beeswarm Plot",
              "Scatter Plot"
            ],
            "_view_count": null,
            "_view_module": "@jupyter-widgets/controls",
            "_view_module_version": "1.5.0",
            "_view_name": "ToggleButtonsView",
            "button_style": "",
            "description": "Plot Type:",
            "description_tooltip": null,
            "disabled": false,
            "icons": [],
            "index": 0,
            "layout": "IPY_MODEL_cdfd08f33ced44879f2fb3dfbe40809a",
            "style": "IPY_MODEL_b4ca02833cc5469aa260b4d0d070c020",
            "tooltips": []
          }
        },
        "854b875874b04ee09fd8b9bfc9175698": {
          "model_module": "@jupyter-widgets/output",
          "model_name": "OutputModel",
          "model_module_version": "1.0.0",
          "state": {
            "_dom_classes": [],
            "_model_module": "@jupyter-widgets/output",
            "_model_module_version": "1.0.0",
            "_model_name": "OutputModel",
            "_view_count": null,
            "_view_module": "@jupyter-widgets/output",
            "_view_module_version": "1.0.0",
            "_view_name": "OutputView",
            "layout": "IPY_MODEL_509ec52d2f144690bb89165592d8a25b",
            "msg_id": "",
            "outputs": [
              {
                "output_type": "display_data",
                "data": {
                  "text/plain": "<Figure size 1200x600 with 1 Axes>",
                  "image/png": "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\n"
                },
                "metadata": {}
              }
            ]
          }
        },
        "b8bb51a37980491bb5be17ca0b0f8076": {
          "model_module": "@jupyter-widgets/base",
          "model_name": "LayoutModel",
          "model_module_version": "1.2.0",
          "state": {
            "_model_module": "@jupyter-widgets/base",
            "_model_module_version": "1.2.0",
            "_model_name": "LayoutModel",
            "_view_count": null,
            "_view_module": "@jupyter-widgets/base",
            "_view_module_version": "1.2.0",
            "_view_name": "LayoutView",
            "align_content": null,
            "align_items": null,
            "align_self": null,
            "border": null,
            "bottom": null,
            "display": null,
            "flex": null,
            "flex_flow": null,
            "grid_area": null,
            "grid_auto_columns": null,
            "grid_auto_flow": null,
            "grid_auto_rows": null,
            "grid_column": null,
            "grid_gap": null,
            "grid_row": null,
            "grid_template_areas": null,
            "grid_template_columns": null,
            "grid_template_rows": null,
            "height": null,
            "justify_content": null,
            "justify_items": null,
            "left": null,
            "margin": null,
            "max_height": null,
            "max_width": null,
            "min_height": null,
            "min_width": null,
            "object_fit": null,
            "object_position": null,
            "order": null,
            "overflow": null,
            "overflow_x": null,
            "overflow_y": null,
            "padding": null,
            "right": null,
            "top": null,
            "visibility": null,
            "width": null
          }
        },
        "8faeaa6a26e6454eaab0491a52a143a3": {
          "model_module": "@jupyter-widgets/base",
          "model_name": "LayoutModel",
          "model_module_version": "1.2.0",
          "state": {
            "_model_module": "@jupyter-widgets/base",
            "_model_module_version": "1.2.0",
            "_model_name": "LayoutModel",
            "_view_count": null,
            "_view_module": "@jupyter-widgets/base",
            "_view_module_version": "1.2.0",
            "_view_name": "LayoutView",
            "align_content": null,
            "align_items": null,
            "align_self": null,
            "border": null,
            "bottom": null,
            "display": null,
            "flex": null,
            "flex_flow": null,
            "grid_area": null,
            "grid_auto_columns": null,
            "grid_auto_flow": null,
            "grid_auto_rows": null,
            "grid_column": null,
            "grid_gap": null,
            "grid_row": null,
            "grid_template_areas": null,
            "grid_template_columns": null,
            "grid_template_rows": null,
            "height": null,
            "justify_content": null,
            "justify_items": null,
            "left": null,
            "margin": null,
            "max_height": null,
            "max_width": null,
            "min_height": null,
            "min_width": null,
            "object_fit": null,
            "object_position": null,
            "order": null,
            "overflow": null,
            "overflow_x": null,
            "overflow_y": null,
            "padding": null,
            "right": null,
            "top": null,
            "visibility": null,
            "width": null
          }
        },
        "627197a92faf4049bba7cc5559903eee": {
          "model_module": "@jupyter-widgets/controls",
          "model_name": "DescriptionStyleModel",
          "model_module_version": "1.5.0",
          "state": {
            "_model_module": "@jupyter-widgets/controls",
            "_model_module_version": "1.5.0",
            "_model_name": "DescriptionStyleModel",
            "_view_count": null,
            "_view_module": "@jupyter-widgets/base",
            "_view_module_version": "1.2.0",
            "_view_name": "StyleView",
            "description_width": ""
          }
        },
        "34aa9cb42d76435f84a548e0f05cda33": {
          "model_module": "@jupyter-widgets/base",
          "model_name": "LayoutModel",
          "model_module_version": "1.2.0",
          "state": {
            "_model_module": "@jupyter-widgets/base",
            "_model_module_version": "1.2.0",
            "_model_name": "LayoutModel",
            "_view_count": null,
            "_view_module": "@jupyter-widgets/base",
            "_view_module_version": "1.2.0",
            "_view_name": "LayoutView",
            "align_content": null,
            "align_items": null,
            "align_self": null,
            "border": null,
            "bottom": null,
            "display": null,
            "flex": null,
            "flex_flow": null,
            "grid_area": null,
            "grid_auto_columns": null,
            "grid_auto_flow": null,
            "grid_auto_rows": null,
            "grid_column": null,
            "grid_gap": null,
            "grid_row": null,
            "grid_template_areas": null,
            "grid_template_columns": null,
            "grid_template_rows": null,
            "height": null,
            "justify_content": null,
            "justify_items": null,
            "left": null,
            "margin": null,
            "max_height": null,
            "max_width": null,
            "min_height": null,
            "min_width": null,
            "object_fit": null,
            "object_position": null,
            "order": null,
            "overflow": null,
            "overflow_x": null,
            "overflow_y": null,
            "padding": null,
            "right": null,
            "top": null,
            "visibility": null,
            "width": null
          }
        },
        "2a2a0610536c43deb9a25718a8c68104": {
          "model_module": "@jupyter-widgets/controls",
          "model_name": "DescriptionStyleModel",
          "model_module_version": "1.5.0",
          "state": {
            "_model_module": "@jupyter-widgets/controls",
            "_model_module_version": "1.5.0",
            "_model_name": "DescriptionStyleModel",
            "_view_count": null,
            "_view_module": "@jupyter-widgets/base",
            "_view_module_version": "1.2.0",
            "_view_name": "StyleView",
            "description_width": ""
          }
        },
        "cdfd08f33ced44879f2fb3dfbe40809a": {
          "model_module": "@jupyter-widgets/base",
          "model_name": "LayoutModel",
          "model_module_version": "1.2.0",
          "state": {
            "_model_module": "@jupyter-widgets/base",
            "_model_module_version": "1.2.0",
            "_model_name": "LayoutModel",
            "_view_count": null,
            "_view_module": "@jupyter-widgets/base",
            "_view_module_version": "1.2.0",
            "_view_name": "LayoutView",
            "align_content": null,
            "align_items": null,
            "align_self": null,
            "border": null,
            "bottom": null,
            "display": null,
            "flex": null,
            "flex_flow": null,
            "grid_area": null,
            "grid_auto_columns": null,
            "grid_auto_flow": null,
            "grid_auto_rows": null,
            "grid_column": null,
            "grid_gap": null,
            "grid_row": null,
            "grid_template_areas": null,
            "grid_template_columns": null,
            "grid_template_rows": null,
            "height": null,
            "justify_content": null,
            "justify_items": null,
            "left": null,
            "margin": null,
            "max_height": null,
            "max_width": null,
            "min_height": null,
            "min_width": null,
            "object_fit": null,
            "object_position": null,
            "order": null,
            "overflow": null,
            "overflow_x": null,
            "overflow_y": null,
            "padding": null,
            "right": null,
            "top": null,
            "visibility": null,
            "width": null
          }
        },
        "b4ca02833cc5469aa260b4d0d070c020": {
          "model_module": "@jupyter-widgets/controls",
          "model_name": "ToggleButtonsStyleModel",
          "model_module_version": "1.5.0",
          "state": {
            "_model_module": "@jupyter-widgets/controls",
            "_model_module_version": "1.5.0",
            "_model_name": "ToggleButtonsStyleModel",
            "_view_count": null,
            "_view_module": "@jupyter-widgets/base",
            "_view_module_version": "1.2.0",
            "_view_name": "StyleView",
            "button_width": "",
            "description_width": "",
            "font_weight": ""
          }
        },
        "509ec52d2f144690bb89165592d8a25b": {
          "model_module": "@jupyter-widgets/base",
          "model_name": "LayoutModel",
          "model_module_version": "1.2.0",
          "state": {
            "_model_module": "@jupyter-widgets/base",
            "_model_module_version": "1.2.0",
            "_model_name": "LayoutModel",
            "_view_count": null,
            "_view_module": "@jupyter-widgets/base",
            "_view_module_version": "1.2.0",
            "_view_name": "LayoutView",
            "align_content": null,
            "align_items": null,
            "align_self": null,
            "border": null,
            "bottom": null,
            "display": null,
            "flex": null,
            "flex_flow": null,
            "grid_area": null,
            "grid_auto_columns": null,
            "grid_auto_flow": null,
            "grid_auto_rows": null,
            "grid_column": null,
            "grid_gap": null,
            "grid_row": null,
            "grid_template_areas": null,
            "grid_template_columns": null,
            "grid_template_rows": null,
            "height": null,
            "justify_content": null,
            "justify_items": null,
            "left": null,
            "margin": null,
            "max_height": null,
            "max_width": null,
            "min_height": null,
            "min_width": null,
            "object_fit": null,
            "object_position": null,
            "order": null,
            "overflow": null,
            "overflow_x": null,
            "overflow_y": null,
            "padding": null,
            "right": null,
            "top": null,
            "visibility": null,
            "width": null
          }
        }
      }
    }
  },
  "cells": [
    {
      "cell_type": "markdown",
      "metadata": {
        "id": "view-in-github",
        "colab_type": "text"
      },
      "source": [
        "<a href=\"https://colab.research.google.com/github/Ogweno/portfolio/blob/main/dummy_stdt_data.ipynb\" target=\"_parent\"><img src=\"https://colab.research.google.com/assets/colab-badge.svg\" alt=\"Open In Colab\"/></a>"
      ]
    },
    {
      "cell_type": "markdown",
      "source": [
        "# Implementing strict protocol for data access"
      ],
      "metadata": {
        "id": "XJgLJqsh0Yqn"
      }
    },
    {
      "cell_type": "code",
      "execution_count": 1,
      "metadata": {
        "id": "h_7TN2nhZt1_"
      },
      "outputs": [],
      "source": [
        "from flask import Flask, request, jsonify"
      ]
    },
    {
      "cell_type": "code",
      "source": [
        "# Dummy student data stored in a dictionary\n",
        "student_data = {\n",
        "    '1': {'name': 'John Doe', 'grade': 'A', 'major': 'Computer Science'},\n",
        "    '2': {'name': 'Jane Smith', 'grade': 'B', 'major': 'Engineering'}\n",
        "}\n",
        "\n"
      ],
      "metadata": {
        "id": "f-_Add_6aA6w"
      },
      "execution_count": 2,
      "outputs": []
    },
    {
      "cell_type": "code",
      "source": [
        "# Dummy user authentication\n",
        "authorized_users = {\n",
        "    'advisor1': 'password1',\n",
        "    'advisor2': 'password2'\n",
        "}"
      ],
      "metadata": {
        "id": "l6ocWrXvaAxI"
      },
      "execution_count": 3,
      "outputs": []
    },
    {
      "cell_type": "code",
      "source": [
        "# Function to authenticate users\n",
        "def authenticate(username, password):\n",
        "    return username in authorized_users and authorized_users[username] == password\n",
        "\n",
        "# Route to fetch student data\n",
        "def get_student_data(student_id, username, password):\n",
        "    # Check if user is authenticated\n",
        "    if not authenticate(username, password):\n",
        "        return {'error': 'Unauthorized access'}, 401\n",
        "\n",
        "    # Check if student data exists\n",
        "    if student_id not in student_data:\n",
        "        return {'error': 'Student not found'}, 404\n",
        "\n",
        "    # Return student data if authorized\n",
        "    return student_data[student_id], 200  # Return data along with status code 200 for success\n",
        "\n"
      ],
      "metadata": {
        "id": "GLSOKyViZ2yB"
      },
      "execution_count": 9,
      "outputs": []
    },
    {
      "cell_type": "code",
      "source": [],
      "metadata": {
        "id": "gaQE8VUapi06"
      },
      "execution_count": null,
      "outputs": []
    },
    {
      "cell_type": "code",
      "source": [
        "# Example usage\n",
        "username = input(\"Enter your username: \")\n",
        "password = input(\"Enter your password: \")\n",
        "student_id = input(\"Enter the student ID you want to fetch data for: \")\n",
        "\n",
        "student_data_result, status_code = get_student_data(student_id, username, password)\n",
        "print(\"Status Code:\", status_code)\n",
        "print(student_data_result)"
      ],
      "metadata": {
        "colab": {
          "base_uri": "https://localhost:8080/"
        },
        "id": "iFAEjbC5aIYy",
        "outputId": "eedf0ab4-ad8b-41c6-fa87-b6d9fa3c0528"
      },
      "execution_count": 10,
      "outputs": [
        {
          "output_type": "stream",
          "name": "stdout",
          "text": [
            "Enter your username: advisor1\n",
            "Enter your password: password1\n",
            "Enter the student ID you want to fetch data for: 1\n",
            "Status Code: 200\n",
            "{'name': 'John Doe', 'grade': 'A', 'major': 'Computer Science'}\n"
          ]
        }
      ]
    },
    {
      "cell_type": "code",
      "source": [],
      "metadata": {
        "id": "WwwwIKJupm-q"
      },
      "execution_count": null,
      "outputs": []
    },
    {
      "cell_type": "code",
      "source": [
        "# Route to fetch specific student feature\n",
        "def get_student_feature(student_id, feature, username, password):\n",
        "    # Check if user is authenticated\n",
        "    if not authenticate(username, password):\n",
        "        return {'error': 'Unauthorized access'}, 401\n",
        "\n",
        "    # Check if student data exists\n",
        "    if student_id not in student_data:\n",
        "        return {'error': 'Student not found'}, 404\n",
        "\n",
        "    # Return specific student feature if authorized\n",
        "    if feature in student_data[student_id]:\n",
        "        return {feature: student_data[student_id][feature]}, 200\n",
        "    else:\n",
        "        return {'error': 'Feature not found for student'}, 404\n",
        "\n",
        "# Example usage to get the grade of a student\n",
        "username = input(\"Enter your username: \")\n",
        "password = input(\"Enter your password: \")\n",
        "student_id = input(\"Enter the student ID you want to fetch data for: \")\n"
      ],
      "metadata": {
        "colab": {
          "base_uri": "https://localhost:8080/"
        },
        "id": "rPpDZbdhpmv7",
        "outputId": "e3ce7fea-cc54-4d97-bdac-dc3138ce2b8f"
      },
      "execution_count": 11,
      "outputs": [
        {
          "name": "stdout",
          "output_type": "stream",
          "text": [
            "Enter your username: advisor1\n",
            "Enter your password: password1\n",
            "Enter the student ID you want to fetch data for: 1\n"
          ]
        }
      ]
    },
    {
      "cell_type": "code",
      "source": [
        "student_feature_result, status_code = get_student_feature(student_id, 'grade', username, password)\n",
        "print(\"Status Code:\", status_code)\n",
        "print(student_feature_result)"
      ],
      "metadata": {
        "colab": {
          "base_uri": "https://localhost:8080/"
        },
        "id": "oo7EiaEGpqTg",
        "outputId": "8f852849-7a6a-45ca-dbfb-9b30a3a60a0b"
      },
      "execution_count": 12,
      "outputs": [
        {
          "output_type": "stream",
          "name": "stdout",
          "text": [
            "Status Code: 200\n",
            "{'grade': 'A'}\n"
          ]
        }
      ]
    },
    {
      "cell_type": "markdown",
      "source": [
        "# A dynamic visualization using python\n",
        "creating a dynamic visualization using python (in google colab), which can be adjusted by filtering different parameters such as SUBJECT, SELECT MODULES, STUDENT GROUP (graduated, enrolled, dropout), X-AXIS (semester), show: boxplot, violin plot unbound, violin plot clamp to data), bean plot, beeswarm plot, scatter plot, trend Lines."
      ],
      "metadata": {
        "id": "N5L-H3C60rNg"
      }
    },
    {
      "cell_type": "code",
      "source": [
        "import pandas as pd\n",
        "import numpy as np\n",
        "import seaborn as sns\n",
        "import matplotlib.pyplot as plt\n",
        "from ipywidgets import interact, Dropdown, Checkbox, SelectMultiple, ToggleButtons\n",
        "from ipywidgets import fixed\n"
      ],
      "metadata": {
        "id": "h-qUZhJxwFO7"
      },
      "execution_count": 93,
      "outputs": []
    },
    {
      "cell_type": "code",
      "source": [
        "# Sample student data\n",
        "np.random.seed(42)\n",
        "data = {\n",
        "    'Subject': np.random.choice(['Math', 'Science', 'History'], size=100),\n",
        "    'Modules': np.random.choice(['Module A', 'Module B', 'Module C'], size=100),\n",
        "    'Student_Group': np.random.choice(['Graduated', 'Enrolled', 'Dropout'], size=100),\n",
        "    'Semester': np.random.randint(1, 9, size=100),\n",
        "    'Score': np.random.randint(50, 100, size=100)\n",
        "}\n",
        "df = pd.DataFrame(data)\n"
      ],
      "metadata": {
        "id": "L20ezf5kwHaS"
      },
      "execution_count": 31,
      "outputs": []
    },
    {
      "cell_type": "code",
      "source": [],
      "metadata": {
        "id": "XwDa0bJ23mH8"
      },
      "execution_count": null,
      "outputs": []
    },
    {
      "cell_type": "code",
      "source": [
        "# Sample student data\n",
        "np.random.seed(42)\n",
        "data = {\n",
        "    'Marital_Status': np.random.choice(['Single', 'Married', 'Divorced', 'Widowed'], size=100),\n",
        "    'Nationality': np.random.choice(['US', 'UK', 'Canada', 'Australia'], size=100),\n",
        "    'Displaced': np.random.choice([True, False], size=100),\n",
        "    'Gender': np.random.choice(['Male', 'Female'], size=100),\n",
        "    'Age_at_Enrollment': np.random.randint(18, 25, size=100),\n",
        "    'International_Student': np.random.choice([True, False], size=100),\n",
        "    'Mother_Qualification': np.random.choice(['High School', 'Bachelor', 'Master', 'PhD'], size=100),\n",
        "    'Father_Qualification': np.random.choice(['High School', 'Bachelor', 'Master', 'PhD'], size=100),\n",
        "    'Debtor': np.random.choice([True, False], size=100),\n",
        "    'Tuition_Fee_Uptodate': np.random.choice([True, False], size=100),\n",
        "    'Scholarship_Holder': np.random.choice([True, False], size=100),\n",
        "    'Educational_Special_Needs': np.random.choice([True, False], size=100),\n",
        "    'Unemployment_Rate': np.random.uniform(3.0, 10.0, size=100),\n",
        "    'Inflation_Rate': np.random.uniform(1.0, 5.0, size=100),\n",
        "    'GDP': np.random.uniform(50000, 100000, size=100),\n",
        "    'Application_Mode': np.random.choice(['Online', 'In-Person', 'Mail'], size=100),\n",
        "    'Application_Order': np.random.randint(1, 5, size=100),\n",
        "    'Course': np.random.choice(['Engineering', 'Business', 'Medicine', 'Arts'], size=100),\n",
        "    'Daytime_Evening_Attendance': np.random.choice(['Daytime', 'Evening'], size=100),\n",
        "    'Previous_Qualification': np.random.choice(['High School Diploma', 'Bachelor Degree', 'Associate Degree'], size=100),\n",
        "    'Curricular_Units_1st_Sem_Credited': np.random.randint(0, 10, size=100),\n",
        "    'Curricular_Units_1st_Sem_Enrolled': np.random.randint(10, 20, size=100),\n",
        "    'Curricular_Units_2nd_Sem_Credited': np.random.randint(0, 10, size=100),\n",
        "    'Curricular_Units_2nd_Sem_Enrolled': np.random.randint(10, 20, size=100),\n",
        "    'Target': np.random.choice(['Enrolled', 'Graduated', 'Dropout'], size=100)\n",
        "}\n",
        "df2 = pd.DataFrame(data)\n",
        "\n",
        "# Display the first few rows of the DataFrame\n",
        "print(df2.head())"
      ],
      "metadata": {
        "colab": {
          "base_uri": "https://localhost:8080/"
        },
        "id": "phGY1kg93l4x",
        "outputId": "5eee12bb-bb9e-435d-982a-68fbb6198b8a"
      },
      "execution_count": 36,
      "outputs": [
        {
          "output_type": "stream",
          "name": "stdout",
          "text": [
            "  Marital_Status Nationality  Displaced  Gender  Age_at_Enrollment  \\\n",
            "0       Divorced      Canada       True    Male                 21   \n",
            "1        Widowed          UK      False    Male                 20   \n",
            "2         Single          UK       True    Male                 18   \n",
            "3       Divorced   Australia       True  Female                 21   \n",
            "4       Divorced          UK      False  Female                 23   \n",
            "\n",
            "   International_Student Mother_Qualification Father_Qualification  Debtor  \\\n",
            "0                  False          High School          High School   False   \n",
            "1                   True             Bachelor          High School   False   \n",
            "2                   True          High School               Master    True   \n",
            "3                  False             Bachelor               Master   False   \n",
            "4                  False               Master          High School    True   \n",
            "\n",
            "   Tuition_Fee_Uptodate  ...  Application_Mode  Application_Order    Course  \\\n",
            "0                  True  ...            Online                  4  Business   \n",
            "1                  True  ...            Online                  3  Medicine   \n",
            "2                  True  ...         In-Person                  3  Business   \n",
            "3                 False  ...         In-Person                  4      Arts   \n",
            "4                 False  ...            Online                  3  Medicine   \n",
            "\n",
            "   Daytime_Evening_Attendance  Previous_Qualification  \\\n",
            "0                     Daytime     High School Diploma   \n",
            "1                     Daytime        Associate Degree   \n",
            "2                     Daytime        Associate Degree   \n",
            "3                     Daytime         Bachelor Degree   \n",
            "4                     Evening        Associate Degree   \n",
            "\n",
            "  Curricular_Units_1st_Sem_Credited  Curricular_Units_1st_Sem_Enrolled  \\\n",
            "0                                 1                                 10   \n",
            "1                                 1                                 18   \n",
            "2                                 3                                 10   \n",
            "3                                 2                                 13   \n",
            "4                                 3                                 19   \n",
            "\n",
            "  Curricular_Units_2nd_Sem_Credited Curricular_Units_2nd_Sem_Enrolled  \\\n",
            "0                                 4                                15   \n",
            "1                                 0                                14   \n",
            "2                                 2                                15   \n",
            "3                                 9                                11   \n",
            "4                                 7                                10   \n",
            "\n",
            "      Target  \n",
            "0   Enrolled  \n",
            "1  Graduated  \n",
            "2    Dropout  \n",
            "3   Enrolled  \n",
            "4    Dropout  \n",
            "\n",
            "[5 rows x 25 columns]\n"
          ]
        }
      ]
    },
    {
      "cell_type": "code",
      "source": [
        "df.describe()"
      ],
      "metadata": {
        "colab": {
          "base_uri": "https://localhost:8080/",
          "height": 300
        },
        "id": "3-B1JIqqwHTV",
        "outputId": "007fb366-eb33-4d66-e35b-b77d29820a46"
      },
      "execution_count": 32,
      "outputs": [
        {
          "output_type": "execute_result",
          "data": {
            "text/plain": [
              "         Semester       Score\n",
              "count  100.000000  100.000000\n",
              "mean     4.800000   74.630000\n",
              "std      2.352733   14.269169\n",
              "min      1.000000   50.000000\n",
              "25%      3.000000   63.750000\n",
              "50%      5.000000   75.000000\n",
              "75%      7.000000   86.500000\n",
              "max      8.000000   99.000000"
            ],
            "text/html": [
              "\n",
              "  <div id=\"df-1dcfc952-aed9-45f9-9a6b-c608f822d7ba\" class=\"colab-df-container\">\n",
              "    <div>\n",
              "<style scoped>\n",
              "    .dataframe tbody tr th:only-of-type {\n",
              "        vertical-align: middle;\n",
              "    }\n",
              "\n",
              "    .dataframe tbody tr th {\n",
              "        vertical-align: top;\n",
              "    }\n",
              "\n",
              "    .dataframe thead th {\n",
              "        text-align: right;\n",
              "    }\n",
              "</style>\n",
              "<table border=\"1\" class=\"dataframe\">\n",
              "  <thead>\n",
              "    <tr style=\"text-align: right;\">\n",
              "      <th></th>\n",
              "      <th>Semester</th>\n",
              "      <th>Score</th>\n",
              "    </tr>\n",
              "  </thead>\n",
              "  <tbody>\n",
              "    <tr>\n",
              "      <th>count</th>\n",
              "      <td>100.000000</td>\n",
              "      <td>100.000000</td>\n",
              "    </tr>\n",
              "    <tr>\n",
              "      <th>mean</th>\n",
              "      <td>4.800000</td>\n",
              "      <td>74.630000</td>\n",
              "    </tr>\n",
              "    <tr>\n",
              "      <th>std</th>\n",
              "      <td>2.352733</td>\n",
              "      <td>14.269169</td>\n",
              "    </tr>\n",
              "    <tr>\n",
              "      <th>min</th>\n",
              "      <td>1.000000</td>\n",
              "      <td>50.000000</td>\n",
              "    </tr>\n",
              "    <tr>\n",
              "      <th>25%</th>\n",
              "      <td>3.000000</td>\n",
              "      <td>63.750000</td>\n",
              "    </tr>\n",
              "    <tr>\n",
              "      <th>50%</th>\n",
              "      <td>5.000000</td>\n",
              "      <td>75.000000</td>\n",
              "    </tr>\n",
              "    <tr>\n",
              "      <th>75%</th>\n",
              "      <td>7.000000</td>\n",
              "      <td>86.500000</td>\n",
              "    </tr>\n",
              "    <tr>\n",
              "      <th>max</th>\n",
              "      <td>8.000000</td>\n",
              "      <td>99.000000</td>\n",
              "    </tr>\n",
              "  </tbody>\n",
              "</table>\n",
              "</div>\n",
              "    <div class=\"colab-df-buttons\">\n",
              "\n",
              "  <div class=\"colab-df-container\">\n",
              "    <button class=\"colab-df-convert\" onclick=\"convertToInteractive('df-1dcfc952-aed9-45f9-9a6b-c608f822d7ba')\"\n",
              "            title=\"Convert this dataframe to an interactive table.\"\n",
              "            style=\"display:none;\">\n",
              "\n",
              "  <svg xmlns=\"http://www.w3.org/2000/svg\" height=\"24px\" viewBox=\"0 -960 960 960\">\n",
              "    <path d=\"M120-120v-720h720v720H120Zm60-500h600v-160H180v160Zm220 220h160v-160H400v160Zm0 220h160v-160H400v160ZM180-400h160v-160H180v160Zm440 0h160v-160H620v160ZM180-180h160v-160H180v160Zm440 0h160v-160H620v160Z\"/>\n",
              "  </svg>\n",
              "    </button>\n",
              "\n",
              "  <style>\n",
              "    .colab-df-container {\n",
              "      display:flex;\n",
              "      gap: 12px;\n",
              "    }\n",
              "\n",
              "    .colab-df-convert {\n",
              "      background-color: #E8F0FE;\n",
              "      border: none;\n",
              "      border-radius: 50%;\n",
              "      cursor: pointer;\n",
              "      display: none;\n",
              "      fill: #1967D2;\n",
              "      height: 32px;\n",
              "      padding: 0 0 0 0;\n",
              "      width: 32px;\n",
              "    }\n",
              "\n",
              "    .colab-df-convert:hover {\n",
              "      background-color: #E2EBFA;\n",
              "      box-shadow: 0px 1px 2px rgba(60, 64, 67, 0.3), 0px 1px 3px 1px rgba(60, 64, 67, 0.15);\n",
              "      fill: #174EA6;\n",
              "    }\n",
              "\n",
              "    .colab-df-buttons div {\n",
              "      margin-bottom: 4px;\n",
              "    }\n",
              "\n",
              "    [theme=dark] .colab-df-convert {\n",
              "      background-color: #3B4455;\n",
              "      fill: #D2E3FC;\n",
              "    }\n",
              "\n",
              "    [theme=dark] .colab-df-convert:hover {\n",
              "      background-color: #434B5C;\n",
              "      box-shadow: 0px 1px 3px 1px rgba(0, 0, 0, 0.15);\n",
              "      filter: drop-shadow(0px 1px 2px rgba(0, 0, 0, 0.3));\n",
              "      fill: #FFFFFF;\n",
              "    }\n",
              "  </style>\n",
              "\n",
              "    <script>\n",
              "      const buttonEl =\n",
              "        document.querySelector('#df-1dcfc952-aed9-45f9-9a6b-c608f822d7ba button.colab-df-convert');\n",
              "      buttonEl.style.display =\n",
              "        google.colab.kernel.accessAllowed ? 'block' : 'none';\n",
              "\n",
              "      async function convertToInteractive(key) {\n",
              "        const element = document.querySelector('#df-1dcfc952-aed9-45f9-9a6b-c608f822d7ba');\n",
              "        const dataTable =\n",
              "          await google.colab.kernel.invokeFunction('convertToInteractive',\n",
              "                                                    [key], {});\n",
              "        if (!dataTable) return;\n",
              "\n",
              "        const docLinkHtml = 'Like what you see? Visit the ' +\n",
              "          '<a target=\"_blank\" href=https://colab.research.google.com/notebooks/data_table.ipynb>data table notebook</a>'\n",
              "          + ' to learn more about interactive tables.';\n",
              "        element.innerHTML = '';\n",
              "        dataTable['output_type'] = 'display_data';\n",
              "        await google.colab.output.renderOutput(dataTable, element);\n",
              "        const docLink = document.createElement('div');\n",
              "        docLink.innerHTML = docLinkHtml;\n",
              "        element.appendChild(docLink);\n",
              "      }\n",
              "    </script>\n",
              "  </div>\n",
              "\n",
              "\n",
              "<div id=\"df-54ec14b8-f0fe-4459-9e9d-ed4475d3d6dd\">\n",
              "  <button class=\"colab-df-quickchart\" onclick=\"quickchart('df-54ec14b8-f0fe-4459-9e9d-ed4475d3d6dd')\"\n",
              "            title=\"Suggest charts\"\n",
              "            style=\"display:none;\">\n",
              "\n",
              "<svg xmlns=\"http://www.w3.org/2000/svg\" height=\"24px\"viewBox=\"0 0 24 24\"\n",
              "     width=\"24px\">\n",
              "    <g>\n",
              "        <path d=\"M19 3H5c-1.1 0-2 .9-2 2v14c0 1.1.9 2 2 2h14c1.1 0 2-.9 2-2V5c0-1.1-.9-2-2-2zM9 17H7v-7h2v7zm4 0h-2V7h2v10zm4 0h-2v-4h2v4z\"/>\n",
              "    </g>\n",
              "</svg>\n",
              "  </button>\n",
              "\n",
              "<style>\n",
              "  .colab-df-quickchart {\n",
              "      --bg-color: #E8F0FE;\n",
              "      --fill-color: #1967D2;\n",
              "      --hover-bg-color: #E2EBFA;\n",
              "      --hover-fill-color: #174EA6;\n",
              "      --disabled-fill-color: #AAA;\n",
              "      --disabled-bg-color: #DDD;\n",
              "  }\n",
              "\n",
              "  [theme=dark] .colab-df-quickchart {\n",
              "      --bg-color: #3B4455;\n",
              "      --fill-color: #D2E3FC;\n",
              "      --hover-bg-color: #434B5C;\n",
              "      --hover-fill-color: #FFFFFF;\n",
              "      --disabled-bg-color: #3B4455;\n",
              "      --disabled-fill-color: #666;\n",
              "  }\n",
              "\n",
              "  .colab-df-quickchart {\n",
              "    background-color: var(--bg-color);\n",
              "    border: none;\n",
              "    border-radius: 50%;\n",
              "    cursor: pointer;\n",
              "    display: none;\n",
              "    fill: var(--fill-color);\n",
              "    height: 32px;\n",
              "    padding: 0;\n",
              "    width: 32px;\n",
              "  }\n",
              "\n",
              "  .colab-df-quickchart:hover {\n",
              "    background-color: var(--hover-bg-color);\n",
              "    box-shadow: 0 1px 2px rgba(60, 64, 67, 0.3), 0 1px 3px 1px rgba(60, 64, 67, 0.15);\n",
              "    fill: var(--button-hover-fill-color);\n",
              "  }\n",
              "\n",
              "  .colab-df-quickchart-complete:disabled,\n",
              "  .colab-df-quickchart-complete:disabled:hover {\n",
              "    background-color: var(--disabled-bg-color);\n",
              "    fill: var(--disabled-fill-color);\n",
              "    box-shadow: none;\n",
              "  }\n",
              "\n",
              "  .colab-df-spinner {\n",
              "    border: 2px solid var(--fill-color);\n",
              "    border-color: transparent;\n",
              "    border-bottom-color: var(--fill-color);\n",
              "    animation:\n",
              "      spin 1s steps(1) infinite;\n",
              "  }\n",
              "\n",
              "  @keyframes spin {\n",
              "    0% {\n",
              "      border-color: transparent;\n",
              "      border-bottom-color: var(--fill-color);\n",
              "      border-left-color: var(--fill-color);\n",
              "    }\n",
              "    20% {\n",
              "      border-color: transparent;\n",
              "      border-left-color: var(--fill-color);\n",
              "      border-top-color: var(--fill-color);\n",
              "    }\n",
              "    30% {\n",
              "      border-color: transparent;\n",
              "      border-left-color: var(--fill-color);\n",
              "      border-top-color: var(--fill-color);\n",
              "      border-right-color: var(--fill-color);\n",
              "    }\n",
              "    40% {\n",
              "      border-color: transparent;\n",
              "      border-right-color: var(--fill-color);\n",
              "      border-top-color: var(--fill-color);\n",
              "    }\n",
              "    60% {\n",
              "      border-color: transparent;\n",
              "      border-right-color: var(--fill-color);\n",
              "    }\n",
              "    80% {\n",
              "      border-color: transparent;\n",
              "      border-right-color: var(--fill-color);\n",
              "      border-bottom-color: var(--fill-color);\n",
              "    }\n",
              "    90% {\n",
              "      border-color: transparent;\n",
              "      border-bottom-color: var(--fill-color);\n",
              "    }\n",
              "  }\n",
              "</style>\n",
              "\n",
              "  <script>\n",
              "    async function quickchart(key) {\n",
              "      const quickchartButtonEl =\n",
              "        document.querySelector('#' + key + ' button');\n",
              "      quickchartButtonEl.disabled = true;  // To prevent multiple clicks.\n",
              "      quickchartButtonEl.classList.add('colab-df-spinner');\n",
              "      try {\n",
              "        const charts = await google.colab.kernel.invokeFunction(\n",
              "            'suggestCharts', [key], {});\n",
              "      } catch (error) {\n",
              "        console.error('Error during call to suggestCharts:', error);\n",
              "      }\n",
              "      quickchartButtonEl.classList.remove('colab-df-spinner');\n",
              "      quickchartButtonEl.classList.add('colab-df-quickchart-complete');\n",
              "    }\n",
              "    (() => {\n",
              "      let quickchartButtonEl =\n",
              "        document.querySelector('#df-54ec14b8-f0fe-4459-9e9d-ed4475d3d6dd button');\n",
              "      quickchartButtonEl.style.display =\n",
              "        google.colab.kernel.accessAllowed ? 'block' : 'none';\n",
              "    })();\n",
              "  </script>\n",
              "</div>\n",
              "\n",
              "    </div>\n",
              "  </div>\n"
            ],
            "application/vnd.google.colaboratory.intrinsic+json": {
              "type": "dataframe",
              "summary": "{\n  \"name\": \"df\",\n  \"rows\": 8,\n  \"fields\": [\n    {\n      \"column\": \"Semester\",\n      \"properties\": {\n        \"dtype\": \"number\",\n        \"std\": 33.86200024707964,\n        \"min\": 1.0,\n        \"max\": 100.0,\n        \"num_unique_values\": 8,\n        \"samples\": [\n          4.8,\n          5.0,\n          100.0\n        ],\n        \"semantic_type\": \"\",\n        \"description\": \"\"\n      }\n    },\n    {\n      \"column\": \"Score\",\n      \"properties\": {\n        \"dtype\": \"number\",\n        \"std\": 28.292945194452308,\n        \"min\": 14.269169279225471,\n        \"max\": 100.0,\n        \"num_unique_values\": 8,\n        \"samples\": [\n          74.63,\n          75.0,\n          100.0\n        ],\n        \"semantic_type\": \"\",\n        \"description\": \"\"\n      }\n    }\n  ]\n}"
            }
          },
          "metadata": {},
          "execution_count": 32
        }
      ]
    },
    {
      "cell_type": "code",
      "source": [
        "df.info()"
      ],
      "metadata": {
        "colab": {
          "base_uri": "https://localhost:8080/"
        },
        "id": "JL7OylZawgsf",
        "outputId": "a58080f9-9311-475f-f60a-069e76c25707"
      },
      "execution_count": 17,
      "outputs": [
        {
          "output_type": "stream",
          "name": "stdout",
          "text": [
            "<class 'pandas.core.frame.DataFrame'>\n",
            "RangeIndex: 100 entries, 0 to 99\n",
            "Data columns (total 5 columns):\n",
            " #   Column         Non-Null Count  Dtype \n",
            "---  ------         --------------  ----- \n",
            " 0   Subject        100 non-null    object\n",
            " 1   Modules        100 non-null    object\n",
            " 2   Student_Group  100 non-null    object\n",
            " 3   Semester       100 non-null    int64 \n",
            " 4   Score          100 non-null    int64 \n",
            "dtypes: int64(2), object(3)\n",
            "memory usage: 4.0+ KB\n"
          ]
        }
      ]
    },
    {
      "cell_type": "code",
      "source": [
        "# Function to update plot based on selected parameters\n",
        "def update_plot(Subject, Modules, Student_Group, X_Axis, Plot_Type):\n",
        "    filtered_df = df.copy()\n",
        "    if Subject:\n",
        "        filtered_df = filtered_df[filtered_df['Subject'] == Subject]\n",
        "    if Modules:\n",
        "        modules_list = list(Modules)\n",
        "        filtered_df = filtered_df[filtered_df['Modules'].isin(modules_list)]\n",
        "    if isinstance(Student_Group, list):  # Check if Student_Group is a list\n",
        "        student_group_list = list(Student_Group)\n",
        "        filtered_df = filtered_df[filtered_df['Student_Group'].isin(student_group_list)]\n",
        "\n",
        "    plt.figure(figsize=(12, 6))\n",
        "\n",
        "    if Plot_Type == 'Boxplot':\n",
        "        sns.boxplot(data=filtered_df, x=X_Axis, y='Score')\n",
        "    elif Plot_Type == 'Violin Plot (Unbound)':\n",
        "        sns.violinplot(data=filtered_df, x=X_Axis, y='Score')\n",
        "    elif Plot_Type == 'Violin Plot (Clamp to Data)':\n",
        "        sns.violinplot(data=filtered_df, x=X_Axis, y='Score', inner='point')\n",
        "    elif Plot_Type == 'Bean Plot':\n",
        "        sns.violinplot(data=filtered_df, x=X_Axis, y='Score', inner='stick')\n",
        "    elif Plot_Type == 'Beeswarm Plot':\n",
        "        sns.swarmplot(data=filtered_df, x=X_Axis, y='Score')\n",
        "    elif Plot_Type == 'Scatter Plot':\n",
        "        sns.scatterplot(data=filtered_df, x=X_Axis, y='Score')\n",
        "        sns.regplot(data=filtered_df, x=X_Axis, y='Score', scatter=False, color='red')\n",
        "\n",
        "    plt.title('Dynamic Visualization')\n",
        "    plt.xlabel(X_Axis)\n",
        "    plt.ylabel('Score')\n",
        "    plt.show()\n"
      ],
      "metadata": {
        "id": "CdrPKo7KwFKZ"
      },
      "execution_count": 33,
      "outputs": []
    },
    {
      "cell_type": "code",
      "source": [
        "# Create interactive widgets for selecting parameters\n",
        "Subject_dropdown = Dropdown(options=['', 'Math', 'Science', 'History'], description='Subject:')\n",
        "Modules_dropdown = SelectMultiple(options=['Module A', 'Module B', 'Module C'], description='Select Modules:')\n",
        "Student_Group_checkbox = Checkbox(value=True, description='Student Group:')\n",
        "X_Axis_toggle = ToggleButtons(options=['Semester'], description='X-Axis:')\n",
        "Plot_Type_toggle = ToggleButtons(options=['Boxplot', 'Violin Plot (Unbound)', 'Violin Plot (Clamp to Data)',\n",
        "                                          'Bean Plot', 'Beeswarm Plot', 'Scatter Plot'], description='Plot Type:')\n",
        "#"
      ],
      "metadata": {
        "id": "Ba85TnFKwHWv"
      },
      "execution_count": 34,
      "outputs": []
    },
    {
      "cell_type": "code",
      "source": [
        "# Create interactive plot\n",
        "interact(update_plot, Subject=Subject_dropdown, Modules=Modules_dropdown,\n",
        "         Student_Group=Student_Group_checkbox, X_Axis=X_Axis_toggle, Plot_Type=Plot_Type_toggle)\n"
      ],
      "metadata": {
        "colab": {
          "base_uri": "https://localhost:8080/",
          "height": 876,
          "referenced_widgets": [
            "5fac4ed363274974b3d5d04e1cd8792b",
            "3803a2c925cf456582180eea251f3489",
            "3a2252545ddd4e80b3323adbfe8a51ce",
            "969abab806814ca5bab45fe28d23126e",
            "f50c409b0abb494b9e15c0fbee22fb50",
            "c8c4e71e69ab458993a74620ef68e0f7",
            "f2c3bfcad3a34b20a1e385869e59c60a",
            "c96470a260e04e55b1474359e4f6f133",
            "3c16c5e8cc15488aa7f64d6126f8c1b3",
            "c344a3e8dd1c4c6db938d2f4b4a1fdee",
            "5669c7a00137453596b10dc47abeaccc",
            "9363f9b68da44a0ba00e15b6d32fac80",
            "4771a6bed8e346bb85c1660460e0b08c",
            "85177d929ba34cc9b66a0e65fa84c6ac",
            "234d96a8a99a42b0b0a675b41f15fe4c",
            "89056e9cc50c4a9eb2a631cae7f0b147",
            "b800439d20864ee58a1a5407497d97af",
            "beae6ab2be8e42dfb5ba241f6598f5b3",
            "c61056432b7f478f9a170f9f6b1b825a"
          ]
        },
        "id": "_Iz_CvZmwVV6",
        "outputId": "046c6eaf-42c0-48a9-b3a8-11e2cee93a18"
      },
      "execution_count": 35,
      "outputs": [
        {
          "output_type": "display_data",
          "data": {
            "text/plain": [
              "interactive(children=(Dropdown(description='Subject:', options=('', 'Math', 'Science', 'History'), value=''), …"
            ],
            "application/vnd.jupyter.widget-view+json": {
              "version_major": 2,
              "version_minor": 0,
              "model_id": "5fac4ed363274974b3d5d04e1cd8792b"
            }
          },
          "metadata": {}
        },
        {
          "output_type": "execute_result",
          "data": {
            "text/plain": [
              "<function __main__.update_plot(Subject, Modules, Student_Group, X_Axis, Plot_Type)>"
            ],
            "text/html": [
              "<div style=\"max-width:800px; border: 1px solid var(--colab-border-color);\"><style>\n",
              "      pre.function-repr-contents {\n",
              "        overflow-x: auto;\n",
              "        padding: 8px 12px;\n",
              "        max-height: 500px;\n",
              "      }\n",
              "\n",
              "      pre.function-repr-contents.function-repr-contents-collapsed {\n",
              "        cursor: pointer;\n",
              "        max-height: 100px;\n",
              "      }\n",
              "    </style>\n",
              "    <pre style=\"white-space: initial; background:\n",
              "         var(--colab-secondary-surface-color); padding: 8px 12px;\n",
              "         border-bottom: 1px solid var(--colab-border-color);\"><b>update_plot</b><br/>def update_plot(Subject, Modules, Student_Group, X_Axis, Plot_Type)</pre><pre class=\"function-repr-contents function-repr-contents-collapsed\" style=\"\"><a class=\"filepath\" style=\"display:none\" href=\"#\">/content/&lt;ipython-input-33-5d5aff7b80ec&gt;</a>&lt;no docstring&gt;</pre></div>"
            ]
          },
          "metadata": {},
          "execution_count": 35
        }
      ]
    },
    {
      "cell_type": "code",
      "source": [],
      "metadata": {
        "id": "Zdq0Zwv85DfD"
      },
      "execution_count": null,
      "outputs": []
    },
    {
      "cell_type": "code",
      "source": [],
      "metadata": {
        "id": "T_znJmaE5nwr"
      },
      "execution_count": null,
      "outputs": []
    },
    {
      "cell_type": "code",
      "source": [],
      "metadata": {
        "id": "yJWjpWs5TUf4"
      },
      "execution_count": null,
      "outputs": []
    },
    {
      "cell_type": "markdown",
      "source": [
        "# Iterractive plot of dummy student data"
      ],
      "metadata": {
        "id": "7oi4dU7VVPDS"
      }
    },
    {
      "cell_type": "code",
      "source": [
        "import numpy as np\n",
        "import pandas as pd\n",
        "import seaborn as sns\n",
        "import matplotlib.pyplot as plt\n",
        "from ipywidgets import interact, Dropdown, ToggleButtons\n",
        "\n",
        "# Sample student data\n",
        "np.random.seed(42)\n",
        "data = {\n",
        "    'Marital_Status': np.random.choice(['Single', 'Married', 'Divorced', 'Widowed'], size=100),\n",
        "    'Nationality': np.random.choice(['US', 'UK', 'Canada', 'Australia'], size=100),\n",
        "    'Displaced': np.random.choice([True, False], size=100),\n",
        "    'Gender': np.random.choice(['Male', 'Female'], size=100),\n",
        "    'Age_at_Enrollment': np.random.randint(18, 25, size=100),\n",
        "    'International_Student': np.random.choice([True, False], size=100),\n",
        "    'Mother_Qualification': np.random.choice(['High School', 'Bachelor', 'Master', 'PhD'], size=100),\n",
        "    'Father_Qualification': np.random.choice(['High School', 'Bachelor', 'Master', 'PhD'], size=100),\n",
        "    'Debtor': np.random.choice([True, False], size=100),\n",
        "    'Tuition_Fee_Uptodate': np.random.choice([True, False], size=100),\n",
        "    'Scholarship_Holder': np.random.choice([True, False], size=100),\n",
        "    'Educational_Special_Needs': np.random.choice([True, False], size=100),\n",
        "    'Unemployment_Rate': np.random.uniform(3.0, 10.0, size=100),\n",
        "    'Inflation_Rate': np.random.uniform(1.0, 5.0, size=100),\n",
        "    'GDP': np.random.uniform(50000, 100000, size=100),\n",
        "    'Application_Mode': np.random.choice(['Online', 'In-Person', 'Mail'], size=100),\n",
        "    'Application_Order': np.random.randint(1, 5, size=100),\n",
        "    'Course': np.random.choice(['Engineering', 'Business', 'Medicine', 'Arts'], size=100),\n",
        "    'Daytime_Evening_Attendance': np.random.choice(['Daytime', 'Evening'], size=100),\n",
        "    'Previous_Qualification': np.random.choice(['High School Diploma', 'Bachelor Degree', 'Associate Degree'], size=100),\n",
        "    'Curricular_Units_1st_Sem_Credited': np.random.randint(0, 10, size=100),\n",
        "    'Curricular_Units_1st_Sem_Enrolled': np.random.randint(10, 20, size=100),\n",
        "    'Curricular_Units_2nd_Sem_Credited': np.random.randint(0, 10, size=100),\n",
        "    'Curricular_Units_2nd_Sem_Enrolled': np.random.randint(10, 20, size=100),\n",
        "    'Target': np.random.choice(['Enrolled', 'Graduated', 'Dropout'], size=100)\n",
        "}\n",
        "df2 = pd.DataFrame(data)\n",
        "\n",
        "(print(df2['Target'].unique()))\n"
      ],
      "metadata": {
        "colab": {
          "base_uri": "https://localhost:8080/"
        },
        "id": "eKgSPvq-TUWC",
        "outputId": "fe9473c9-5e82-4096-df15-bfbbffca355b"
      },
      "execution_count": 139,
      "outputs": [
        {
          "output_type": "stream",
          "name": "stdout",
          "text": [
            "['Enrolled' 'Graduated' 'Dropout']\n"
          ]
        }
      ]
    },
    {
      "cell_type": "code",
      "source": [
        "def update_plot(df, features, target, X_Axis, Plot_Type):\n",
        "    if target not in df.columns:\n",
        "        raise ValueError(f\"Target variable '{target}' not found in the DataFrame.\")\n",
        "\n",
        "    filtered_df = df.copy()\n",
        "    for feature, value in features.items():\n",
        "        if value:\n",
        "            filtered_df = filtered_df[filtered_df[feature] == value]\n",
        "\n",
        "    plt.figure(figsize=(12, 6))\n",
        "\n",
        "    if Plot_Type == 'Boxplot':\n",
        "        sns.boxplot(data=filtered_df, x=X_Axis, y=target)\n",
        "    elif Plot_Type == 'Violin Plot (Unbound)':\n",
        "        sns.violinplot(data=filtered_df, x=X_Axis, y=target)\n",
        "    elif Plot_Type == 'Violin Plot (Clamp to Data)':\n",
        "        sns.violinplot(data=filtered_df, x=X_Axis, y=target, inner='point')\n",
        "    elif Plot_Type == 'Bean Plot':\n",
        "        sns.violinplot(data=filtered_df, x=X_Axis, y=target, inner='stick')\n",
        "    elif Plot_Type == 'Beeswarm Plot':\n",
        "        sns.swarmplot(data=filtered_df, x=X_Axis, y=target)\n",
        "    elif Plot_Type == 'Scatter Plot':\n",
        "        sns.scatterplot(data=filtered_df, x=X_Axis, y=target)\n",
        "        sns.regplot(data=filtered_df, x=X_Axis, y=target, scatter=False, color='red')\n",
        "\n",
        "    plt.title('Dynamic Visualization')\n",
        "    plt.xlabel(X_Axis)\n",
        "    plt.ylabel(target)\n",
        "    plt.show()"
      ],
      "metadata": {
        "id": "0286tE2oXPWW"
      },
      "execution_count": 142,
      "outputs": []
    },
    {
      "cell_type": "code",
      "source": [
        "# Define interactive widgets for features and target\n",
        "feature_options = {column: None for column in df2.columns}\n",
        "\n",
        "# Extract column names corresponding to numeric data for X-axis options\n",
        "x_axis_options = [column for column, value in feature_options.items() if df2[column].dtype in ['int64', 'float64']]\n",
        "\n",
        "# Create a Dropdown widget for X-axis selection\n",
        "X_Axis_dropdown = Dropdown(options=x_axis_options, description='X-Axis:')\n",
        "\n",
        "\n",
        "# Define interactive widgets for features and target\n",
        "feature_options = {column: None for column in df2.columns}\n",
        "\n",
        "features_dropdown = Dropdown(options=feature_options.keys(), description='Features:')\n",
        "target_dropdown = Dropdown(options=['Target'], description='Target:')\n",
        "Plot_Type_toggle = ToggleButtons(options=['Boxplot', 'Violin Plot (Unbound)', 'Violin Plot (Clamp to Data)', 'Bean Plot', 'Beeswarm Plot', 'Scatter Plot'], description='Plot Type:')\n",
        "\n",
        "# Create interactive plot\n",
        "interact(update_plot, df=fixed(df2), features=fixed(feature_options), target=target_dropdown, X_Axis=X_Axis_dropdown, Plot_Type=Plot_Type_toggle)\n"
      ],
      "metadata": {
        "colab": {
          "base_uri": "https://localhost:8080/",
          "height": 748,
          "referenced_widgets": [
            "5c5ef15ba93046338c97b433eb6a1217",
            "88376f6907a943a5bd9dcbd3d0b812a2",
            "c4d0c93bbb33401cac06a113a7a9ee39",
            "694efd1928f145708150cc82dd9c9e9f",
            "854b875874b04ee09fd8b9bfc9175698",
            "b8bb51a37980491bb5be17ca0b0f8076",
            "8faeaa6a26e6454eaab0491a52a143a3",
            "627197a92faf4049bba7cc5559903eee",
            "34aa9cb42d76435f84a548e0f05cda33",
            "2a2a0610536c43deb9a25718a8c68104",
            "cdfd08f33ced44879f2fb3dfbe40809a",
            "b4ca02833cc5469aa260b4d0d070c020",
            "509ec52d2f144690bb89165592d8a25b"
          ]
        },
        "id": "mxvxgVM4V3wg",
        "outputId": "814a8a2c-2f5f-448c-c301-3e95c7e7cbe5"
      },
      "execution_count": 143,
      "outputs": [
        {
          "output_type": "display_data",
          "data": {
            "text/plain": [
              "interactive(children=(Dropdown(description='Target:', options=('Target',), value='Target'), Dropdown(descripti…"
            ],
            "application/vnd.jupyter.widget-view+json": {
              "version_major": 2,
              "version_minor": 0,
              "model_id": "5c5ef15ba93046338c97b433eb6a1217"
            }
          },
          "metadata": {}
        },
        {
          "output_type": "execute_result",
          "data": {
            "text/plain": [
              "<function __main__.update_plot(df, features, target, X_Axis, Plot_Type)>"
            ],
            "text/html": [
              "<div style=\"max-width:800px; border: 1px solid var(--colab-border-color);\"><style>\n",
              "      pre.function-repr-contents {\n",
              "        overflow-x: auto;\n",
              "        padding: 8px 12px;\n",
              "        max-height: 500px;\n",
              "      }\n",
              "\n",
              "      pre.function-repr-contents.function-repr-contents-collapsed {\n",
              "        cursor: pointer;\n",
              "        max-height: 100px;\n",
              "      }\n",
              "    </style>\n",
              "    <pre style=\"white-space: initial; background:\n",
              "         var(--colab-secondary-surface-color); padding: 8px 12px;\n",
              "         border-bottom: 1px solid var(--colab-border-color);\"><b>update_plot</b><br/>def update_plot(df, features, target, X_Axis, Plot_Type)</pre><pre class=\"function-repr-contents function-repr-contents-collapsed\" style=\"\"><a class=\"filepath\" style=\"display:none\" href=\"#\">/content/&lt;ipython-input-142-964b908370bc&gt;</a>&lt;no docstring&gt;</pre></div>"
            ]
          },
          "metadata": {},
          "execution_count": 143
        }
      ]
    }
  ]
}